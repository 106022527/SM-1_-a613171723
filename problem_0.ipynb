{
 "cells": [
  {
   "cell_type": "markdown",
   "metadata": {},
   "source": [
    "# Statistical Mechanics Assignment 1\n",
    "## Name:   陳姿安 bobo &ensp; &ensp; ID: s106022545\n",
    "## Problem 0:  One die with 6 sides"
   ]
  },
  {
   "cell_type": "markdown",
   "metadata": {},
   "source": [
    "1.2.code and print-out"
   ]
  },
  {
   "cell_type": "code",
   "execution_count": 19,
   "metadata": {},
   "outputs": [
    {
     "name": "stdout",
     "output_type": "stream",
     "text": [
      "====================\n",
      "One die with 6 sides\n",
      "Number of trials =  1\n",
      "[0. 0. 0. 0. 0. 0.]\n",
      "s, N_s, N_s-N/6, N_s/N, N_s/N-1/6\n",
      "1 0.0 -0.16666666666666666 0.0 -0.16666666666666666\n",
      "2 0.0 -0.16666666666666666 0.0 -0.16666666666666666\n",
      "3 1.0 0.8333333333333334 1.0 0.8333333333333334\n",
      "4 0.0 -0.16666666666666666 0.0 -0.16666666666666666\n",
      "5 0.0 -0.16666666666666666 0.0 -0.16666666666666666\n",
      "6 0.0 -0.16666666666666666 0.0 -0.16666666666666666\n",
      "Elapsed time = 0.0018924307901215798\n",
      "====================\n",
      "One die with 6 sides\n",
      "Number of trials =  10\n",
      "[0. 0. 0. 0. 0. 0.]\n",
      "s, N_s, N_s-N/6, N_s/N, N_s/N-1/6\n",
      "1 2.0 0.33333333333333326 0.2 0.033333333333333354\n",
      "2 4.0 2.333333333333333 0.4 0.23333333333333336\n",
      "3 1.0 -0.6666666666666667 0.1 -0.06666666666666665\n",
      "4 1.0 -0.6666666666666667 0.1 -0.06666666666666665\n",
      "5 1.0 -0.6666666666666667 0.1 -0.06666666666666665\n",
      "6 1.0 -0.6666666666666667 0.1 -0.06666666666666665\n",
      "Elapsed time = 0.0012777756555806263\n",
      "====================\n",
      "One die with 6 sides\n",
      "Number of trials =  100\n",
      "[0. 0. 0. 0. 0. 0.]\n",
      "s, N_s, N_s-N/6, N_s/N, N_s/N-1/6\n",
      "1 11.0 -5.666666666666668 0.11 -0.05666666666666666\n",
      "2 13.0 -3.666666666666668 0.13 -0.03666666666666665\n",
      "3 18.0 1.3333333333333321 0.18 0.013333333333333336\n",
      "4 22.0 5.333333333333332 0.22 0.053333333333333344\n",
      "5 22.0 5.333333333333332 0.22 0.053333333333333344\n",
      "6 14.0 -2.666666666666668 0.14 -0.026666666666666644\n",
      "Elapsed time = 0.002690684211302141\n",
      "====================\n",
      "One die with 6 sides\n",
      "Number of trials =  1000\n",
      "[0. 0. 0. 0. 0. 0.]\n",
      "s, N_s, N_s-N/6, N_s/N, N_s/N-1/6\n",
      "1 149.0 -17.666666666666657 0.149 -0.017666666666666664\n",
      "2 163.0 -3.666666666666657 0.163 -0.0036666666666666514\n",
      "3 161.0 -5.666666666666657 0.161 -0.005666666666666653\n",
      "4 182.0 15.333333333333343 0.182 0.015333333333333338\n",
      "5 145.0 -21.666666666666657 0.145 -0.021666666666666667\n",
      "6 200.0 33.33333333333334 0.2 0.033333333333333354\n",
      "Elapsed time = 0.0093988638573137\n",
      "====================\n",
      "One die with 6 sides\n",
      "Number of trials =  10000\n",
      "[0. 0. 0. 0. 0. 0.]\n",
      "s, N_s, N_s-N/6, N_s/N, N_s/N-1/6\n",
      "1 1644.0 -22.666666666666742 0.1644 -0.002266666666666667\n",
      "2 1636.0 -30.666666666666742 0.1636 -0.003066666666666662\n",
      "3 1719.0 52.33333333333326 0.1719 0.00523333333333334\n",
      "4 1697.0 30.333333333333258 0.1697 0.0030333333333333323\n",
      "5 1618.0 -48.66666666666674 0.1618 -0.004866666666666658\n",
      "6 1686.0 19.333333333333258 0.1686 0.0019333333333333425\n",
      "Elapsed time = 0.0717065346734671\n",
      "====================\n",
      "One die with 6 sides\n",
      "Number of trials =  100000\n",
      "[0. 0. 0. 0. 0. 0.]\n",
      "s, N_s, N_s-N/6, N_s/N, N_s/N-1/6\n",
      "1 16568.0 -98.66666666666788 0.16568 -0.0009866666666666635\n",
      "2 16874.0 207.33333333333212 0.16874 0.0020733333333333437\n",
      "3 16530.0 -136.66666666666788 0.1653 -0.001366666666666655\n",
      "4 16734.0 67.33333333333212 0.16734 0.0006733333333333313\n",
      "5 16568.0 -98.66666666666788 0.16568 -0.0009866666666666635\n",
      "6 16726.0 59.33333333333212 0.16726 0.0005933333333333346\n",
      "Elapsed time = 0.513161773468255\n",
      "====================\n",
      "One die with 6 sides\n",
      "Number of trials =  300000\n",
      "[0. 0. 0. 0. 0. 0.]\n",
      "s, N_s, N_s-N/6, N_s/N, N_s/N-1/6\n",
      "1 50050.0 50.0 0.16683333333333333 0.00016666666666667607\n",
      "2 50311.0 311.0 0.16770333333333334 0.0010366666666666857\n",
      "3 49823.0 -177.0 0.16607666666666668 -0.0005899999999999794\n",
      "4 49726.0 -274.0 0.16575333333333334 -0.0009133333333333216\n",
      "5 50336.0 336.0 0.16778666666666667 0.0011200000000000099\n",
      "6 49754.0 -246.0 0.16584666666666667 -0.0008199999999999874\n",
      "Elapsed time = 1.011091731291799\n",
      "\n",
      "                                                               By Bobo\n"
     ]
    }
   ],
   "source": [
    "import random\n",
    "import time\n",
    "import numpy as np\n",
    "\n",
    "def OneDie_np(trials):\n",
    "    c1=time.clock()\n",
    "    print(\"====================\")\n",
    "    print(\"One die with 6 sides\")\n",
    "    print(\"Number of trials = \", trials)\n",
    "\n",
    "    sides = 6\n",
    "    histogram = np.zeros(sides)\n",
    "    print(histogram)\n",
    "\n",
    "    r = 0\n",
    "    for j in range(trials):\n",
    "        r = int(np.random.random()*sides) \n",
    "        histogram[r] = histogram[r] + 1\n",
    "\n",
    "    print(\"s, N_s, N_s-N/6, N_s/N, N_s/N-1/6\")\n",
    "\n",
    "    for j in range(sides):\n",
    "        print(j+1, histogram[j], histogram[j]-trials/sides, histogram[j]/trials, histogram[j]/trials-1/6)\n",
    "\n",
    "    c2=time.clock()\n",
    "    print(\"Elapsed time =\", c2-c1)\n",
    "\n",
    "def bobo():\n",
    "    OneDie_np(1)\n",
    "    OneDie_np(10)\n",
    "    OneDie_np(100)\n",
    "    OneDie_np(1000)\n",
    "    OneDie_np(10000)\n",
    "    OneDie_np(100000)\n",
    "    OneDie_np(300000)\n",
    "\n",
    "bobo()\n",
    "\n",
    "print(\"\\n{:>70}\".format(\"By Bobo\"))"
   ]
  },
  {
   "cell_type": "markdown",
   "metadata": {},
   "source": [
    "3.\n",
    "\n",
    "Number of trials :  300000 \n",
    " \n",
    "Elapsed time :  1.011091731291799 sec\n",
    "\n",
    "\n",
    "| sides | N_s   | N_s-N/6 | N_s/N               | N_s/N-1/6              |\n",
    "|-------|-------|---------|---------------------|------------------------|\n",
    "|   1   | 50050 |    50   | 0.16683333333333333 | 0.00016666666666667607 |\n",
    "|   2   | 50311 |   311   | 0.16770333333333334 |  0.0010366666666666857 |\n",
    "|   3   | 49823 |   -177  | 0.16607666666666668 | -0.0005899999999999794 |\n",
    "|   4   | 49726 |   -274  | 0.16575333333333334 | -0.0009133333333333216 |\n",
    "|   5   | 50336 |   336   | 0.16778666666666667 |  0.0011200000000000099 |\n",
    "|   6   | 49754 |   -246  | 0.16584666666666667 | -0.0008199999999999874 |"
   ]
  },
  {
   "cell_type": "markdown",
   "metadata": {},
   "source": [
    "4.\n",
    "\n",
    "Q:  \n",
    "As the number of trials increases, does the magnitude (absolute value) of the differences between the number of times a given side occurs and one-sixth of the number of trials increase or decrease?\n",
    "\n",
    "Ans:  \n",
    "decrease. Because in my code trials more , the  N_s-N/6  會增加，但是相對於總次數而言誤差是減少的。\n",
    "\n"
   ]
  },
  {
   "cell_type": "markdown",
   "metadata": {},
   "source": [
    "5.\n",
    "\n",
    "Q:  \n",
    "As you increase the number of trials, does the ratio of the number of times each side occurs to the total number of trials approach closer to 1/6?\n",
    "\n",
    "Ans:  \n",
    "Yes. When I run 300000 the N_s/N-1/6 mean is  0.0007744444444444434 , very closer to zero.\n"
   ]
  },
  {
   "cell_type": "code",
   "execution_count": 20,
   "metadata": {},
   "outputs": [
    {
     "name": "stdout",
     "output_type": "stream",
     "text": [
      "\n",
      "                                                               By Bobo\n"
     ]
    }
   ],
   "source": [
    "print(\"\\n{:>70}\".format(\"By Bobo\")) #姿安的簽名檔"
   ]
  },
  {
   "cell_type": "code",
   "execution_count": null,
   "metadata": {},
   "outputs": [],
   "source": []
  }
 ],
 "metadata": {
  "kernelspec": {
   "display_name": "Python 3",
   "language": "python",
   "name": "python3"
  },
  "language_info": {
   "codemirror_mode": {
    "name": "ipython",
    "version": 3
   },
   "file_extension": ".py",
   "mimetype": "text/x-python",
   "name": "python",
   "nbconvert_exporter": "python",
   "pygments_lexer": "ipython3",
   "version": "3.6.4"
  }
 },
 "nbformat": 4,
 "nbformat_minor": 2
}
