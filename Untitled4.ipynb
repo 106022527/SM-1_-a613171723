{
 "cells": [
  {
   "cell_type": "code",
   "execution_count": 1,
   "metadata": {},
   "outputs": [
    {
     "name": "stdout",
     "output_type": "stream",
     "text": [
      "====================\n",
      "Number of sides =  6\n",
      "Number of trials =  50000000\n",
      "[0. 0. 0. 0. 0. 0.]\n",
      "[8336135. 8335429. 8328905. 8331073. 8335824. 8332634.]\n",
      "s, N_s, N_s-N/sides, N_s/N, N_s/N-1/sides\n",
      "1 8336135.0 2801.666666666977 0.1667227 5.603333333334404e-05\n",
      "2 8335429.0 2095.666666666977 0.16670858 4.191333333333769e-05\n",
      "3 8328905.0 -4428.333333333023 0.1665781 -8.85666666666507e-05\n",
      "4 8331073.0 -2260.333333333023 0.16662146 -4.52066666666584e-05\n",
      "5 8335824.0 2490.666666666977 0.16671648 4.981333333334281e-05\n",
      "6 8332634.0 -699.3333333330229 0.16665268 -1.398666666665993e-05\n",
      "Elapsed time = 176.2827094317633\n"
     ]
    }
   ],
   "source": [
    "import random\n",
    "import time\n",
    "import numpy as np\n",
    "\n",
    "def OneDieS_np(trials, sides):\n",
    "    c1=time.clock()\n",
    "    print(\"====================\")\n",
    "    print(\"Number of sides = \", sides)\n",
    "    print(\"Number of trials = \", trials)\n",
    "\n",
    "    histogram = np.zeros(sides)\n",
    "    print(histogram)\n",
    "\n",
    "    r = 0\n",
    "    for t in range(trials):\n",
    "        r = int(np.random.random()*sides)\n",
    "        histogram[r] = histogram[r] + 1\n",
    "    print( histogram)\n",
    "\n",
    "\n",
    "    print(\"s, N_s, N_s-N/sides, N_s/N, N_s/N-1/sides\")\n",
    "    for s in [0, 1, 2, 3, 4, 5]:\n",
    "        print(s+1, histogram[s], histogram[s]-trials/sides, histogram[s]/trials, histogram[s]/trials-1/sides)\n",
    "\n",
    "    c2=time.clock()\n",
    "    print(\"Elapsed time =\", c2-c1)\n",
    "\n",
    "def run():\n",
    "    OneDieS_np(50000000, 6)\n",
    "\n",
    "run()\n"
   ]
  },
  {
   "cell_type": "code",
   "execution_count": null,
   "metadata": {},
   "outputs": [],
   "source": []
  }
 ],
 "metadata": {
  "kernelspec": {
   "display_name": "Python 3",
   "language": "python",
   "name": "python3"
  },
  "language_info": {
   "codemirror_mode": {
    "name": "ipython",
    "version": 3
   },
   "file_extension": ".py",
   "mimetype": "text/x-python",
   "name": "python",
   "nbconvert_exporter": "python",
   "pygments_lexer": "ipython3",
   "version": "3.6.4"
  }
 },
 "nbformat": 4,
 "nbformat_minor": 2
}
